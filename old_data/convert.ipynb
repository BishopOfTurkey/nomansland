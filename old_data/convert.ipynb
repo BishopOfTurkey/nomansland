{
 "cells": [
  {
   "cell_type": "code",
   "execution_count": 18,
   "metadata": {},
   "outputs": [],
   "source": [
    "import pandas as pd\n",
    "import json"
   ]
  },
  {
   "cell_type": "code",
   "execution_count": 109,
   "metadata": {},
   "outputs": [],
   "source": [
    "import re\n",
    "from datetime import timedelta\n",
    "\n",
    "\n",
    "regex = re.compile(r'((?P<hours>\\d+?)h\\s*)?((?P<minutes>\\d+?)m\\s*)?((?P<seconds>\\d+?)s)?')\n",
    "\n",
    "\n",
    "def parse_time(time_str):\n",
    "    parts = regex.match(time_str)\n",
    "    if not parts:\n",
    "        return\n",
    "    parts = parts.groupdict()\n",
    "    time_params = {}\n",
    "    for name in parts:\n",
    "        if parts[name]:\n",
    "            time_params[name] = int(parts[name])\n",
    "    return timedelta(**time_params)"
   ]
  },
  {
   "cell_type": "code",
   "execution_count": 115,
   "metadata": {},
   "outputs": [],
   "source": [
    "with open('bruce.json') as file:\n",
    "    out = json.load(file)"
   ]
  },
  {
   "cell_type": "code",
   "execution_count": 116,
   "metadata": {},
   "outputs": [],
   "source": [
    "df = pd.DataFrame(out)\n",
    "df.name = df.name.apply(lambda x: x.replace('\\nSummit Member', ''))\n",
    "\n",
    "df.distance = df.distance.apply(lambda x: float(x.replace(' km', ''))*1000)\n",
    "df.duration = df.duration.apply(lambda x: parse_time(x).total_seconds())"
   ]
  },
  {
   "cell_type": "code",
   "execution_count": 117,
   "metadata": {},
   "outputs": [
    {
     "data": {
      "text/html": [
       "<div>\n",
       "<style scoped>\n",
       "    .dataframe tbody tr th:only-of-type {\n",
       "        vertical-align: middle;\n",
       "    }\n",
       "\n",
       "    .dataframe tbody tr th {\n",
       "        vertical-align: top;\n",
       "    }\n",
       "\n",
       "    .dataframe thead th {\n",
       "        text-align: right;\n",
       "    }\n",
       "</style>\n",
       "<table border=\"1\" class=\"dataframe\">\n",
       "  <thead>\n",
       "    <tr style=\"text-align: right;\">\n",
       "      <th></th>\n",
       "      <th>name</th>\n",
       "      <th>date</th>\n",
       "      <th>distance</th>\n",
       "      <th>duration</th>\n",
       "      <th>title</th>\n",
       "    </tr>\n",
       "  </thead>\n",
       "  <tbody>\n",
       "    <tr>\n",
       "      <td>0</td>\n",
       "      <td>Emily McLeod</td>\n",
       "      <td>2020-05-13 08:01:16 UTC</td>\n",
       "      <td>6780.0</td>\n",
       "      <td>2218.0</td>\n",
       "      <td>Evening Run</td>\n",
       "    </tr>\n",
       "    <tr>\n",
       "      <td>1</td>\n",
       "      <td>Matthew Blacker</td>\n",
       "      <td>2020-05-13 07:52:43 UTC</td>\n",
       "      <td>10060.0</td>\n",
       "      <td>2936.0</td>\n",
       "      <td>Freddy Krueger</td>\n",
       "    </tr>\n",
       "    <tr>\n",
       "      <td>2</td>\n",
       "      <td>Hanno Jacobs</td>\n",
       "      <td>2020-05-13 07:55:15 UTC</td>\n",
       "      <td>8330.0</td>\n",
       "      <td>2745.0</td>\n",
       "      <td>🐌</td>\n",
       "    </tr>\n",
       "    <tr>\n",
       "      <td>3</td>\n",
       "      <td>Stefan Smerdon</td>\n",
       "      <td>2020-05-13 05:43:34 UTC</td>\n",
       "      <td>21000.0</td>\n",
       "      <td>6780.0</td>\n",
       "      <td>Long burn 4 Bruce</td>\n",
       "    </tr>\n",
       "    <tr>\n",
       "      <td>4</td>\n",
       "      <td>Matt Kautsky</td>\n",
       "      <td>2020-05-13 07:21:32 UTC</td>\n",
       "      <td>7980.0</td>\n",
       "      <td>2241.0</td>\n",
       "      <td>Afternoon Run</td>\n",
       "    </tr>\n",
       "    <tr>\n",
       "      <td>...</td>\n",
       "      <td>...</td>\n",
       "      <td>...</td>\n",
       "      <td>...</td>\n",
       "      <td>...</td>\n",
       "      <td>...</td>\n",
       "    </tr>\n",
       "    <tr>\n",
       "      <td>110</td>\n",
       "      <td>Kealon Cantwell</td>\n",
       "      <td>2020-05-10 15:05:04 UTC</td>\n",
       "      <td>14000.0</td>\n",
       "      <td>4320.0</td>\n",
       "      <td>Training run - 10 - 14k</td>\n",
       "    </tr>\n",
       "    <tr>\n",
       "      <td>111</td>\n",
       "      <td>Vincent Abbott</td>\n",
       "      <td>2020-05-10 09:12:45 UTC</td>\n",
       "      <td>9640.0</td>\n",
       "      <td>3312.0</td>\n",
       "      <td>Bold park run</td>\n",
       "    </tr>\n",
       "    <tr>\n",
       "      <td>112</td>\n",
       "      <td>Edward Raftesath</td>\n",
       "      <td>2020-05-10 08:37:45 UTC</td>\n",
       "      <td>13120.0</td>\n",
       "      <td>3300.0</td>\n",
       "      <td>Night seems to bring out the best in me</td>\n",
       "    </tr>\n",
       "    <tr>\n",
       "      <td>113</td>\n",
       "      <td>Fin Dennison</td>\n",
       "      <td>2020-05-10 07:26:10 UTC</td>\n",
       "      <td>15300.0</td>\n",
       "      <td>5220.0</td>\n",
       "      <td>Head Torch Hours</td>\n",
       "    </tr>\n",
       "    <tr>\n",
       "      <td>114</td>\n",
       "      <td>Stefan Smerdon</td>\n",
       "      <td>2020-05-10 07:50:11 UTC</td>\n",
       "      <td>6210.0</td>\n",
       "      <td>2061.0</td>\n",
       "      <td>Part 2. (Strava carked, 12 mins, 2.2 km lost, ...</td>\n",
       "    </tr>\n",
       "  </tbody>\n",
       "</table>\n",
       "<p>115 rows × 5 columns</p>\n",
       "</div>"
      ],
      "text/plain": [
       "                 name                     date  distance  duration  \\\n",
       "0        Emily McLeod  2020-05-13 08:01:16 UTC    6780.0    2218.0   \n",
       "1     Matthew Blacker  2020-05-13 07:52:43 UTC   10060.0    2936.0   \n",
       "2        Hanno Jacobs  2020-05-13 07:55:15 UTC    8330.0    2745.0   \n",
       "3      Stefan Smerdon  2020-05-13 05:43:34 UTC   21000.0    6780.0   \n",
       "4        Matt Kautsky  2020-05-13 07:21:32 UTC    7980.0    2241.0   \n",
       "..                ...                      ...       ...       ...   \n",
       "110   Kealon Cantwell  2020-05-10 15:05:04 UTC   14000.0    4320.0   \n",
       "111    Vincent Abbott  2020-05-10 09:12:45 UTC    9640.0    3312.0   \n",
       "112  Edward Raftesath  2020-05-10 08:37:45 UTC   13120.0    3300.0   \n",
       "113      Fin Dennison  2020-05-10 07:26:10 UTC   15300.0    5220.0   \n",
       "114    Stefan Smerdon  2020-05-10 07:50:11 UTC    6210.0    2061.0   \n",
       "\n",
       "                                                 title  \n",
       "0                                          Evening Run  \n",
       "1                                       Freddy Krueger  \n",
       "2                                                    🐌  \n",
       "3                                    Long burn 4 Bruce  \n",
       "4                                        Afternoon Run  \n",
       "..                                                 ...  \n",
       "110                            Training run - 10 - 14k  \n",
       "111                                      Bold park run  \n",
       "112            Night seems to bring out the best in me  \n",
       "113                                   Head Torch Hours  \n",
       "114  Part 2. (Strava carked, 12 mins, 2.2 km lost, ...  \n",
       "\n",
       "[115 rows x 5 columns]"
      ]
     },
     "execution_count": 117,
     "metadata": {},
     "output_type": "execute_result"
    }
   ],
   "source": [
    "df"
   ]
  },
  {
   "cell_type": "code",
   "execution_count": 118,
   "metadata": {},
   "outputs": [],
   "source": [
    "df.to_csv('bruce.csv', index=False)"
   ]
  },
  {
   "cell_type": "code",
   "execution_count": 88,
   "metadata": {},
   "outputs": [
    {
     "name": "stdout",
     "output_type": "stream",
     "text": [
      "{'hours': '1', 'minutes': '53', 'seconds': None}\n"
     ]
    }
   ],
   "source": [
    "s = parse_time(\"1h 53m\")"
   ]
  },
  {
   "cell_type": "code",
   "execution_count": 90,
   "metadata": {},
   "outputs": [
    {
     "data": {
      "text/plain": [
       "6780.0"
      ]
     },
     "execution_count": 90,
     "metadata": {},
     "output_type": "execute_result"
    }
   ],
   "source": [
    "s.total_seconds()"
   ]
  },
  {
   "cell_type": "code",
   "execution_count": null,
   "metadata": {},
   "outputs": [],
   "source": []
  }
 ],
 "metadata": {
  "kernelspec": {
   "display_name": "Python 3",
   "language": "python",
   "name": "python3"
  },
  "language_info": {
   "codemirror_mode": {
    "name": "ipython",
    "version": 3
   },
   "file_extension": ".py",
   "mimetype": "text/x-python",
   "name": "python",
   "nbconvert_exporter": "python",
   "pygments_lexer": "ipython3",
   "version": "3.7.4"
  }
 },
 "nbformat": 4,
 "nbformat_minor": 4
}
